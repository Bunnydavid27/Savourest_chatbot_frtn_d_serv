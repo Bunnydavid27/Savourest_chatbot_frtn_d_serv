{
 "cells": [
  {
   "cell_type": "code",
   "execution_count": 7,
   "id": "e1005deb",
   "metadata": {},
   "outputs": [],
   "source": [
    "parameters =  {\n",
    "      \"food_item\": [\"Mango Lassi\", \"Lassi\"]\n",
    "    }"
   ]
  },
  {
   "cell_type": "code",
   "execution_count": 8,
   "id": "e72a13f6",
   "metadata": {},
   "outputs": [
    {
     "data": {
      "text/plain": [
       "['Mango Lassi', 'Lassi']"
      ]
     },
     "execution_count": 8,
     "metadata": {},
     "output_type": "execute_result"
    }
   ],
   "source": [
    " parameters[\"food_item\"]"
   ]
  },
  {
   "cell_type": "code",
   "execution_count": 9,
   "id": "75f198f6",
   "metadata": {},
   "outputs": [],
   "source": [
    "food_item = parameters[\"food_item\"]"
   ]
  },
  {
   "cell_type": "code",
   "execution_count": 10,
   "id": "359879c3",
   "metadata": {},
   "outputs": [
    {
     "data": {
      "text/plain": [
       "['Mango Lassi', 'Lassi']"
      ]
     },
     "execution_count": 10,
     "metadata": {},
     "output_type": "execute_result"
    }
   ],
   "source": [
    "food_item"
   ]
  },
  {
   "cell_type": "code",
   "execution_count": 12,
   "id": "1db6ef4c",
   "metadata": {},
   "outputs": [
    {
     "name": "stdout",
     "output_type": "stream",
     "text": [
      "Mango Lassi\n",
      "Lassi\n"
     ]
    }
   ],
   "source": [
    "for i in food_item:\n",
    "    print(i)"
   ]
  },
  {
   "cell_type": "code",
   "execution_count": null,
   "id": "474bb285",
   "metadata": {},
   "outputs": [],
   "source": []
  }
 ],
 "metadata": {
  "kernelspec": {
   "display_name": "Python 3 (ipykernel)",
   "language": "python",
   "name": "python3"
  },
  "language_info": {
   "codemirror_mode": {
    "name": "ipython",
    "version": 3
   },
   "file_extension": ".py",
   "mimetype": "text/x-python",
   "name": "python",
   "nbconvert_exporter": "python",
   "pygments_lexer": "ipython3",
   "version": "3.9.13"
  }
 },
 "nbformat": 4,
 "nbformat_minor": 5
}
